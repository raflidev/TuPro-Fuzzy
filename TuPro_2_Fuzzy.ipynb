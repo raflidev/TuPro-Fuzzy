{
  "nbformat": 4,
  "nbformat_minor": 0,
  "metadata": {
    "colab": {
      "name": "TuPro 2 - Fuzzy.ipynb",
      "provenance": [],
      "collapsed_sections": []
    },
    "kernelspec": {
      "name": "python3",
      "display_name": "Python 3"
    },
    "language_info": {
      "name": "python"
    }
  },
  "cells": [
    {
      "cell_type": "markdown",
      "source": [
        "## **Tugas Programan 2 - Rekomendasi Bengkel**"
      ],
      "metadata": {
        "id": "AFqJiSkfUgnN"
      }
    },
    {
      "cell_type": "markdown",
      "source": [
        "Kelompok:\n",
        "1. Muhammad Rafli Ramadhan - 1301200204\n",
        "2. Rizky nur Cahyana - 1301208561\n",
        "\n"
      ],
      "metadata": {
        "id": "_yfOJf64UsTX"
      }
    },
    {
      "cell_type": "code",
      "execution_count": 21,
      "metadata": {
        "id": "lajlte5zyROd"
      },
      "outputs": [],
      "source": [
        "import pandas as pd\n",
        "import matplotlib.pyplot as plt\n",
        "import numpy as np"
      ]
    },
    {
      "cell_type": "markdown",
      "source": [
        "## **Inisiasi Anggota Fuzzy dan Aturan Fuzzy**"
      ],
      "metadata": {
        "id": "lxu9pC9OXTEN"
      }
    },
    {
      "cell_type": "code",
      "source": [
        "fuzzyAnggota =  {\n",
        "  'servis': [],\n",
        "  'harga': []\n",
        "}"
      ],
      "metadata": {
        "id": "aJSJQQAPSz67"
      },
      "execution_count": 22,
      "outputs": []
    },
    {
      "cell_type": "markdown",
      "source": [
        "Fuzzy Menggunakan membership function\n",
        "\n",
        "Service\n",
        "- buruk: 1 - 40\n",
        "- cukup: 41 - 70\n",
        "- baik: 71 - 100\n",
        "\n",
        "Harga\n",
        "- murah: 1 - 4\n",
        "- cukup: 5 - 7\n",
        "- mahal: 8 - 10"
      ],
      "metadata": {
        "id": "HR1H_uBUcK4m"
      }
    },
    {
      "cell_type": "code",
      "source": [
        "fuzzyAnggota['servis'].append({'buruk': [1, 40]})\n",
        "fuzzyAnggota['servis'].append({'cukup': [41, 70]})\n",
        "fuzzyAnggota['servis'].append({'baik': [71, 100]})\n",
        "\n",
        "fuzzyAnggota['harga'].append({'murah': [1, 4]})\n",
        "fuzzyAnggota['harga'].append({'cukup': [5, 7]})\n",
        "fuzzyAnggota['harga'].append({'mahal': [8, 10]})"
      ],
      "metadata": {
        "id": "8G1HMeZ_S4r7"
      },
      "execution_count": 23,
      "outputs": []
    },
    {
      "cell_type": "code",
      "source": [
        "plt.title(\"Servis\", fontsize=16)\n",
        "\n",
        "plt.plot([0, 30,40, 41, 100], [1, 1,0, 0, 0], \"r\")\n",
        "plt.plot([0, 25 ,41,60, 70,80,100], [0, 0, 1, 1,0,0,0], color=\"b\")\n",
        "plt.plot([0, 65, 71, 100], [0, 0, 1, 1], color=\"g\")\n",
        "\n",
        "plt.plot(0, 0, 'r', linewidth=1.5, label='Buruk')\n",
        "plt.plot(0, 0, 'b', linewidth=1.5, label='Cukup')\n",
        "plt.plot(0, 0, 'g', linewidth=1.5, label='Baik')\n",
        "\n",
        "plt.legend()\n",
        "plt.show()\n",
        "\n",
        "plt.title(\"Harga\", fontsize=16)\n",
        "\n",
        "plt.plot([0, 3, 4, 8, 10], [1, 1, 0, 0 ,0], \"y\")\n",
        "plt.plot([0, 3 ,5, 6, 7, 10], [0, 0, 1, 1, 0, 0], \"g\")\n",
        "plt.plot([0,6.8, 8, 10], [0,0, 1, 1], \"b\")\n",
        "\n",
        "plt.plot(0, 0, 'y', linewidth=1.5, label='Murah')\n",
        "plt.plot(0, 0, 'g', linewidth=1.5, label='Cukup')\n",
        "plt.plot(0, 0, 'b', linewidth=1.5, label='Mahal')\n",
        "\n",
        "plt.legend()\n",
        "plt.show()"
      ],
      "metadata": {
        "colab": {
          "base_uri": "https://localhost:8080/",
          "height": 549
        },
        "id": "bCMzx-7vEyk2",
        "outputId": "88fe3a1a-7fd9-4bca-dade-659bb95aa957"
      },
      "execution_count": 6,
      "outputs": [
        {
          "output_type": "display_data",
          "data": {
            "text/plain": [
              "<Figure size 432x288 with 1 Axes>"
            ],
            "image/png": "[encoded data removed]"
          },
          "metadata": {
            "needs_background": "light"
          }
        },
        {
          "output_type": "display_data",
          "data": {
            "text/plain": [
              "<Figure size 432x288 with 1 Axes>"
            ],
            "image/png": "[encoded data removed]"
          },
          "metadata": {
            "needs_background": "light"
          }
        }
      ]
    },
    {
      "cell_type": "code",
      "source": [
        "fuzzyRule = {\n",
        "  ('buruk', 'mahal'): 'tidak rekomen',\n",
        "  ('buruk', 'cukup'): 'tidak rekomen',\n",
        "  ('buruk', 'murah'): 'rekomen',\n",
        "  ('cukup', 'mahal'): 'tidak rekomen',\n",
        "  ('cukup', 'cukup'): 'cukup rekomen',\n",
        "  ('cukup', 'murah'): 'rekomen',\n",
        "  ('baik', 'mahal'): 'rekomen',\n",
        "  ('baik', 'cukup'): 'sangat rekomen',\n",
        "  ('baik', 'murah'): 'sangat rekomen',\n",
        "}"
      ],
      "metadata": {
        "id": "_Dkabs4VS63T"
      },
      "execution_count": 7,
      "outputs": []
    },
    {
      "cell_type": "code",
      "source": [
        "deffuzy = {'tidak rekomen': 0, \"cukup rekomen\": 50, \"rekomen\": 75, \"sangat rekomen\": 100}"
      ],
      "metadata": {
        "id": "AG2wlphHS8OU"
      },
      "execution_count": 8,
      "outputs": []
    },
    {
      "cell_type": "markdown",
      "source": [
        "## **Ambil Data Dari Excel**"
      ],
      "metadata": {
        "id": "NT7iQ1D9Yws0"
      }
    },
    {
      "cell_type": "code",
      "source": [
        "def ReadFromExcel():\n",
        "  return pd.read_excel('https://github.com/raflidev/TuPro-Fuzzy/blob/main/bengkel.xlsx?raw=true')"
      ],
      "metadata": {
        "id": "NIg9mCWBS_Lr"
      },
      "execution_count": 24,
      "outputs": []
    },
    {
      "cell_type": "markdown",
      "source": [
        "## **Inisialisasi Fuzzy dan Fuzzification**"
      ],
      "metadata": {
        "id": "YpojavUtY9uk"
      }
    },
    {
      "cell_type": "code",
      "source": [
        "def BuatFuzzy():\n",
        "  data = fuzzyAnggota\n",
        "  keanggotaan = {}\n",
        "  for i in data:\n",
        "      keanggotaan[i] = {}\n",
        "      for j in data[i]:\n",
        "          k = list(j.keys())[0]\n",
        "          keanggotaan[i][k] = 0\n",
        "  return keanggotaan"
      ],
      "metadata": {
        "id": "eRKhzhT3S9l2"
      },
      "execution_count": 25,
      "outputs": []
    },
    {
      "cell_type": "code",
      "source": [
        "print(\"Hasil Membuat Fuzzy Kosong\")\n",
        "print(BuatFuzzy())"
      ],
      "metadata": {
        "colab": {
          "base_uri": "https://localhost:8080/"
        },
        "id": "981EtUYDZBqc",
        "outputId": "9b820c8e-64cc-4d3a-b413-e9f05801f27e"
      },
      "execution_count": 26,
      "outputs": [
        {
          "output_type": "stream",
          "name": "stdout",
          "text": [
            "Hasil Membuat Fuzzy Kosong\n",
            "{'servis': {'buruk': 0, 'cukup': 0, 'baik': 0}, 'harga': {'murah': 0, 'cukup': 0, 'mahal': 0}}\n"
          ]
        }
      ]
    },
    {
      "cell_type": "markdown",
      "source": [
        "fuzzification menggunakan membership function"
      ],
      "metadata": {
        "id": "rjnYH1KiBIrO"
      }
    },
    {
      "cell_type": "code",
      "source": [
        "def Fuzzification(fuzzy, x):\n",
        "  anggota = BuatFuzzy()\n",
        "  for j, data in enumerate(anggota[fuzzy].keys()):\n",
        "      b, c = fuzzyAnggota[fuzzy][j][data]\n",
        "      a, d = b - 1, c + 1\n",
        "      if b <= x <= c:\n",
        "          anggota[fuzzy][data] = 1\n",
        "      elif a < x < b:\n",
        "          anggota[fuzzy][data] = (x-a)/(b-a)\n",
        "      elif c < x <= d:\n",
        "          anggota[fuzzy][data] = (d-x)/(d-c)\n",
        "  return anggota[fuzzy]"
      ],
      "metadata": {
        "id": "fqUiGR-tTA0F"
      },
      "execution_count": 12,
      "outputs": []
    },
    {
      "cell_type": "code",
      "source": [
        "def FuzzificationData(excel):\n",
        "  fuzzied = []\n",
        "  for i in range(len(excel)):\n",
        "      fuzzed = {}\n",
        "      for j in fuzzyAnggota:\n",
        "          fuzzed[j] = Fuzzification(j, excel[j][i])\n",
        "      fuzzied.append(fuzzed)\n",
        "  return fuzzied"
      ],
      "metadata": {
        "id": "iRgmvopFTC_n"
      },
      "execution_count": 13,
      "outputs": []
    },
    {
      "cell_type": "code",
      "source": [
        "data = ReadFromExcel()\n",
        "fuzzied = FuzzificationData(data)\n",
        "print(\"Hasil dari Fuzzification\\n\")\n",
        "for i in range(10):\n",
        "  print(\"Service: \",fuzzied[i]['servis'])\n",
        "  print(\"Harga: \",fuzzied[i]['harga'])\n",
        "  print('')"
      ],
      "metadata": {
        "colab": {
          "base_uri": "https://localhost:8080/"
        },
        "id": "h8-RycmqaASA",
        "outputId": "b8723180-926e-46e0-a052-620d5d90dc02"
      },
      "execution_count": 27,
      "outputs": [
        {
          "output_type": "stream",
          "name": "stdout",
          "text": [
            "Hasil dari Fuzzification\n",
            "\n",
            "Service:  {'buruk': 0, 'cukup': 1, 'baik': 0}\n",
            "Harga:  {'murah': 0, 'cukup': 1, 'mahal': 0}\n",
            "\n",
            "Service:  {'buruk': 0, 'cukup': 1, 'baik': 0}\n",
            "Harga:  {'murah': 1, 'cukup': 0, 'mahal': 0}\n",
            "\n",
            "Service:  {'buruk': 0, 'cukup': 0, 'baik': 1}\n",
            "Harga:  {'murah': 1, 'cukup': 0, 'mahal': 0}\n",
            "\n",
            "Service:  {'buruk': 0, 'cukup': 1, 'baik': 0}\n",
            "Harga:  {'murah': 1, 'cukup': 0, 'mahal': 0}\n",
            "\n",
            "Service:  {'buruk': 1, 'cukup': 0, 'baik': 0}\n",
            "Harga:  {'murah': 1, 'cukup': 0, 'mahal': 0}\n",
            "\n",
            "Service:  {'buruk': 0, 'cukup': 1, 'baik': 0}\n",
            "Harga:  {'murah': 0, 'cukup': 0, 'mahal': 1}\n",
            "\n",
            "Service:  {'buruk': 0, 'cukup': 1, 'baik': 0}\n",
            "Harga:  {'murah': 0, 'cukup': 0.0, 'mahal': 1}\n",
            "\n",
            "Service:  {'buruk': 1, 'cukup': 0, 'baik': 0}\n",
            "Harga:  {'murah': 0, 'cukup': 0, 'mahal': 1}\n",
            "\n",
            "Service:  {'buruk': 0, 'cukup': 1, 'baik': 0}\n",
            "Harga:  {'murah': 1, 'cukup': 0, 'mahal': 0}\n",
            "\n",
            "Service:  {'buruk': 1, 'cukup': 0, 'baik': 0}\n",
            "Harga:  {'murah': 0, 'cukup': 0, 'mahal': 1}\n",
            "\n"
          ]
        }
      ]
    },
    {
      "cell_type": "markdown",
      "source": [
        "## **Inference**"
      ],
      "metadata": {
        "id": "raobzDeSaorB"
      }
    },
    {
      "cell_type": "markdown",
      "source": [
        "![image.png](data:image/png;base64,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)"
      ],
      "metadata": {
        "id": "pA_9MlE2mmj4"
      }
    },
    {
      "cell_type": "code",
      "source": [
        "def Inference(fuzzied):\n",
        "  inferenced = []\n",
        "  for fuzzed in fuzzied:\n",
        "      result = {}\n",
        "      keys = []\n",
        "      for i in fuzzyRule:\n",
        "          keys.append(i)\n",
        "          result[fuzzyRule[i]] = 0\n",
        "      for key in keys:\n",
        "          output = fuzzyRule[key]\n",
        "          minVal = fuzzed[list(fuzzed.keys())[0]][key[0]]\n",
        "          for j, val in enumerate(fuzzed):\n",
        "              minVal = min(minVal, fuzzed[val][key[j]])\n",
        "          result[output] = max(minVal, result[output])\n",
        "      inferenced.append(result)\n",
        "  return inferenced"
      ],
      "metadata": {
        "id": "RiHgUCEeTEIX"
      },
      "execution_count": 15,
      "outputs": []
    },
    {
      "cell_type": "code",
      "source": [
        "inferenced = Inference(fuzzied)\n",
        "for i in range(10):\n",
        "  print(inferenced[i])\n",
        "  print('')"
      ],
      "metadata": {
        "colab": {
          "base_uri": "https://localhost:8080/"
        },
        "id": "pgc_IlOOasvO",
        "outputId": "f6dd4b7c-7a41-459c-9754-36f96e334bfe"
      },
      "execution_count": 28,
      "outputs": [
        {
          "output_type": "stream",
          "name": "stdout",
          "text": [
            "{'tidak rekomen': 0, 'rekomen': 0, 'cukup rekomen': 1, 'sangat rekomen': 0}\n",
            "\n",
            "{'tidak rekomen': 0, 'rekomen': 1, 'cukup rekomen': 0, 'sangat rekomen': 0}\n",
            "\n",
            "{'tidak rekomen': 0, 'rekomen': 0, 'cukup rekomen': 0, 'sangat rekomen': 1}\n",
            "\n",
            "{'tidak rekomen': 0, 'rekomen': 1, 'cukup rekomen': 0, 'sangat rekomen': 0}\n",
            "\n",
            "{'tidak rekomen': 0, 'rekomen': 1, 'cukup rekomen': 0, 'sangat rekomen': 0}\n",
            "\n",
            "{'tidak rekomen': 1, 'rekomen': 0, 'cukup rekomen': 0, 'sangat rekomen': 0}\n",
            "\n",
            "{'tidak rekomen': 1, 'rekomen': 0, 'cukup rekomen': 0.0, 'sangat rekomen': 0}\n",
            "\n",
            "{'tidak rekomen': 1, 'rekomen': 0, 'cukup rekomen': 0, 'sangat rekomen': 0}\n",
            "\n",
            "{'tidak rekomen': 0, 'rekomen': 1, 'cukup rekomen': 0, 'sangat rekomen': 0}\n",
            "\n",
            "{'tidak rekomen': 1, 'rekomen': 0, 'cukup rekomen': 0, 'sangat rekomen': 0}\n",
            "\n"
          ]
        }
      ]
    },
    {
      "cell_type": "markdown",
      "source": [
        "Defuzzification menggunakan metode sugeno "
      ],
      "metadata": {
        "id": "wTkH5fOJBS_F"
      }
    },
    {
      "cell_type": "code",
      "source": [
        "deffuzy = {'tidak rekomen': 0, \"cukup rekomen\": 50, \"rekomen\": 75, \"sangat rekomen\": 100}\n",
        "plt.figure(figsize=(8, 3))\n",
        "plt.title(\"Metode Sugeno\")\n",
        "\n",
        "plt.plot([0, 0], [0, 1], label=\"Tidak Rekomen\")\n",
        "plt.plot([50, 50], [0, 1], label=\"Cukup Rekomen\")\n",
        "plt.plot([75, 75], [0, 1], label=\"Rekomen\")\n",
        "plt.plot([100, 100], [0, 1], label=\"Sangat Rekomen\")\n",
        "plt.xticks(np.arange(0, 110, 10.0))\n",
        "plt.legend()\n",
        "plt.show()"
      ],
      "metadata": {
        "colab": {
          "base_uri": "https://localhost:8080/",
          "height": 227
        },
        "id": "Pg-PAEpcUIms",
        "outputId": "8b8b56a5-6115-4b77-8593-0b8ff2d10e9d"
      },
      "execution_count": 29,
      "outputs": [
        {
          "output_type": "display_data",
          "data": {
            "text/plain": [
              "<Figure size 576x216 with 1 Axes>"
            ],
            "image/png": "[encoded data removed]"
          },
          "metadata": {
            "needs_background": "light"
          }
        }
      ]
    },
    {
      "cell_type": "code",
      "source": [
        "def Defuzzification(inferenced):\n",
        "  results = []\n",
        "  for inference in inferenced:\n",
        "      numerator, denominator = 0, 0\n",
        "      for output in deffuzy.keys():\n",
        "          numerator += inference[output] * deffuzy[output]\n",
        "          denominator += inference[output]\n",
        "      results.append(numerator/denominator)\n",
        "  \n",
        "  data = ReadFromExcel()\n",
        "  data['result'] = results\n",
        "  return data"
      ],
      "metadata": {
        "id": "Gbvj2bhTTF--"
      },
      "execution_count": 18,
      "outputs": []
    },
    {
      "cell_type": "code",
      "source": [
        "defuzz = Defuzzification(inferenced)\n",
        "print(defuzz)"
      ],
      "metadata": {
        "colab": {
          "base_uri": "https://localhost:8080/"
        },
        "id": "IYgmSZCNbJNQ",
        "outputId": "246367b0-1a64-404a-fae5-c8f0fbc5ce3d"
      },
      "execution_count": 30,
      "outputs": [
        {
          "output_type": "stream",
          "name": "stdout",
          "text": [
            "     id  servis  harga  result\n",
            "0     1      58      7    50.0\n",
            "1     2      54      1    75.0\n",
            "2     3      98      2   100.0\n",
            "3     4      52      4    75.0\n",
            "4     5      11      4    75.0\n",
            "..  ...     ...    ...     ...\n",
            "95   96      30      1    75.0\n",
            "96   97      25      3    75.0\n",
            "97   98      27     10     0.0\n",
            "98   99       8      6     0.0\n",
            "99  100      11      8     0.0\n",
            "\n",
            "[100 rows x 4 columns]\n"
          ]
        }
      ]
    },
    {
      "cell_type": "markdown",
      "source": [
        "## **Persortingan untuk mendapatkan peringkat**"
      ],
      "metadata": {
        "id": "AqwPLDmHbXEF"
      }
    },
    {
      "cell_type": "code",
      "source": [
        "print(defuzz.sort_values(by='result', ascending=False)[:10])"
      ],
      "metadata": {
        "colab": {
          "base_uri": "https://localhost:8080/"
        },
        "id": "qSiVMgrOTHu9",
        "outputId": "39874c8b-65a2-4684-ec07-c737f05e1ed1"
      },
      "execution_count": 20,
      "outputs": [
        {
          "output_type": "stream",
          "name": "stdout",
          "text": [
            "    id  servis  harga  result\n",
            "51  52      94      3   100.0\n",
            "59  60      79      6   100.0\n",
            "2    3      98      2   100.0\n",
            "33  34      93      4   100.0\n",
            "90  91      98      3   100.0\n",
            "91  92      83      3   100.0\n",
            "15  16      82      6   100.0\n",
            "62  63      78      7   100.0\n",
            "14  15      78      5   100.0\n",
            "12  13      80      3   100.0\n"
          ]
        }
      ]
    },
    {
      "cell_type": "markdown",
      "source": [
        "## **Convert menjadi Excel**"
      ],
      "metadata": {
        "id": "3GR9hXISbdG7"
      }
    },
    {
      "cell_type": "code",
      "source": [
        "tmp = defuzz.sort_values(by='result', ascending=False)[:10]\n",
        "tmp.to_excel(\"peringkat.xlsx\", engine='openpyxl', index=False)"
      ],
      "metadata": {
        "id": "eN32FK_gTJz3"
      },
      "execution_count": null,
      "outputs": []
    }
  ]
}